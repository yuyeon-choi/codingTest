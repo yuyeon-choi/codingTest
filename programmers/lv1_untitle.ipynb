{
 "cells": [
  {
   "cell_type": "code",
   "execution_count": null,
   "metadata": {},
   "outputs": [],
   "source": [
    "# smile test \n",
    "user_input = input()\n",
    "n, m = user_input.split(' ')\n",
    "\n",
    "def add_numb(n,m):\n",
    "    sum_numb = int(n,16) + int(m,16)\n",
    "    sum_hex = hex(sum_numb)[2:]\n",
    "    return sum_hex\n",
    "result = add_numb(n,m)\n",
    "print(result)"
   ]
  }
 ],
 "metadata": {
  "language_info": {
   "name": "python"
  },
  "orig_nbformat": 4
 },
 "nbformat": 4,
 "nbformat_minor": 2
}
