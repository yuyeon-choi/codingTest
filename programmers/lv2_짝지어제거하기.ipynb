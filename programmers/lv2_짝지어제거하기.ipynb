{
 "cells": [
  {
   "attachments": {},
   "cell_type": "markdown",
   "metadata": {},
   "source": [
    "### 문제 설명\n",
    "짝지어 제거하기는, 알파벳 소문자로 이루어진 문자열을 가지고 시작합니다. 먼저 문자열에서 같은 알파벳이 2개 붙어 있는 짝을 찾습니다. 그다음, 그 둘을 제거한 뒤, 앞뒤로 문자열을 이어 붙입니다. 이 과정을 반복해서 문자열을 모두 제거한다면 짝지어 제거하기가 종료됩니다. 문자열 S가 주어졌을 때, 짝지어 제거하기를 성공적으로 수행할 수 있는지 반환하는 함수를 완성해 주세요. 성공적으로 수행할 수 있으면 1을, 아닐 경우 0을 리턴해주면 됩니다.\n",
    "\n",
    "예를 들어, 문자열 S = baabaa 라면\n",
    "\n",
    "b aa baa → bb aa → aa →\n",
    "\n",
    "의 순서로 문자열을 모두 제거할 수 있으므로 1을 반환합니다.\n",
    "\n",
    "제한사항\n",
    "문자열의 길이 : 1,000,000이하의 자연수\n",
    "문자열은 모두 소문자로 이루어져 있습니다.\n",
    "\n",
    "입출력 예   \n",
    "s\tresult   \n",
    "baabaa\t1   \n",
    "cdcd\t0   "
   ]
  },
  {
   "cell_type": "code",
   "execution_count": 3,
   "metadata": {},
   "outputs": [],
   "source": [
    "# answer 1\n",
    "s = \"bbabba\"\n",
    "def solution(s):\n",
    "    \n",
    "    stack = []\n",
    "    for c in s:\n",
    "        \n",
    "        if len(stack) ==0:\n",
    "            stack.append(c)\n",
    "            continue\n",
    "\n",
    "        if stack[-1] == c:\n",
    "            stack.pop()\n",
    "\n",
    "        else :\n",
    "            stack.append(c)\n",
    "\n",
    "    if len(stack) ==0:\n",
    "        return 1\n",
    "    \n",
    "    else :\n",
    "        return 0"
   ]
  },
  {
   "cell_type": "code",
   "execution_count": 4,
   "metadata": {},
   "outputs": [],
   "source": [
    "# answer 2\n",
    "s = \"bbabba\"\n",
    "\n",
    "def solution(s):\n",
    "    # 수가 홀수일때 바로 return\n",
    "    if len(s)%2==1:\n",
    "        return 0\n",
    "\n",
    "    tmp = [] # 변수를 담을 리스트\n",
    "    for i in s:\n",
    "        if len(tmp)==0:\n",
    "            tmp.append(i)\n",
    "        elif i==tmp[-1]:\n",
    "            tmp.pop()\n",
    "        else:\n",
    "            tmp.append(i)\n",
    "\n",
    "    if len(tmp)==0:\n",
    "        return 1\n",
    "    else:\n",
    "        return 0"
   ]
  },
  {
   "attachments": {},
   "cell_type": "markdown",
   "metadata": {},
   "source": [
    "참고 자료   \n",
    "https://docs.python.org/ko/3/tutorial/datastructures.html\n"
   ]
  }
 ],
 "metadata": {
  "kernelspec": {
   "display_name": "study",
   "language": "python",
   "name": "python3"
  },
  "language_info": {
   "codemirror_mode": {
    "name": "ipython",
    "version": 3
   },
   "file_extension": ".py",
   "mimetype": "text/x-python",
   "name": "python",
   "nbconvert_exporter": "python",
   "pygments_lexer": "ipython3",
   "version": "3.9.15"
  },
  "orig_nbformat": 4
 },
 "nbformat": 4,
 "nbformat_minor": 2
}
