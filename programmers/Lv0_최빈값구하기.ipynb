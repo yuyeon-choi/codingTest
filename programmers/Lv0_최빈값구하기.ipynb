{
 "cells": [
  {
   "attachments": {},
   "cell_type": "markdown",
   "metadata": {},
   "source": [
    "### 문제 설명   \n",
    "최빈값은 주어진 값 중에서 가장 자주 나오는 값을 의미합니다. 정수 배열 array가 매개변수로 주어질 때, 최빈값을 return 하도록 solution 함수를 완성해보세요. 최빈값이 여러 개면 -1을 return 합니다.\n",
    "\n",
    "입출력 예   \n",
    "array\tresult   \n",
    "[1, 2, 3, 3, 3, 4]\t3   \n",
    "[1, 1, 2, 2]\t-1   \n",
    "[1]\t1   \n",
    "\n"
   ]
  },
  {
   "cell_type": "code",
   "execution_count": null,
   "metadata": {},
   "outputs": [],
   "source": [
    "def solution(array):\n",
    "    array.sort()\n",
    "    answer = 0\n",
    "    list_1 = []\n",
    "    list_1.append(array[0])\n",
    "    for i in range(len(array)-1):\n",
    "        if array[i] != array[i+1]:\n",
    "            list_1.append(array[i+1])\n",
    "    a = 0\n",
    "    for j in list_1:\n",
    "        if array.count(j) > a:\n",
    "            a = array.count(j)\n",
    "            answer = j\n",
    "        elif array.count(j) == a:\n",
    "            a = array.count(j)\n",
    "            answer = -1\n",
    "        else: \n",
    "            continue\n",
    "\n",
    "\n",
    "    return answer"
   ]
  },
  {
   "attachments": {},
   "cell_type": "markdown",
   "metadata": {},
   "source": [
    "### 딕셔너리 - Key, Value \n",
    "https://wikidocs.net/16 - 점프 투 파이썬"
   ]
  },
  {
   "cell_type": "code",
   "execution_count": 2,
   "metadata": {},
   "outputs": [],
   "source": [
    "def solution(array):\n",
    "    answer = 0\n",
    "    tmp = dict()\n",
    "    for i in array:\n",
    "        if i not in tmp.keys():\n",
    "            tmp[i]=1\n",
    "        else:\n",
    "            tmp[i]+=1\n",
    "\n",
    "    max_val = max(tmp.values())\n",
    "    tmpValue = list(tmp.values())\n",
    "\n",
    "\n",
    "    if tmpValue.count(max_val)>1:\n",
    "        return -1\n",
    "\n",
    "    for keys, values in tmp.items():\n",
    "        if values == max_val:\n",
    "            return keys"
   ]
  }
 ],
 "metadata": {
  "kernelspec": {
   "display_name": "study",
   "language": "python",
   "name": "python3"
  },
  "language_info": {
   "codemirror_mode": {
    "name": "ipython",
    "version": 3
   },
   "file_extension": ".py",
   "mimetype": "text/x-python",
   "name": "python",
   "nbconvert_exporter": "python",
   "pygments_lexer": "ipython3",
   "version": "3.9.0"
  },
  "orig_nbformat": 4,
  "vscode": {
   "interpreter": {
    "hash": "f3a08e897ccff299bb76221425d14d75b550316cd09d5783ae323c816e801948"
   }
  }
 },
 "nbformat": 4,
 "nbformat_minor": 2
}
